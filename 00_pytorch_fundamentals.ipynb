{
  "nbformat": 4,
  "nbformat_minor": 0,
  "metadata": {
    "colab": {
      "provenance": [],
      "authorship_tag": "ABX9TyMHd4cC5bhGpY+8DVafR9rb",
      "include_colab_link": true
    },
    "kernelspec": {
      "name": "python3",
      "display_name": "Python 3"
    },
    "language_info": {
      "name": "python"
    }
  },
  "cells": [
    {
      "cell_type": "markdown",
      "metadata": {
        "id": "view-in-github",
        "colab_type": "text"
      },
      "source": [
        "<a href=\"https://colab.research.google.com/github/jim-junior/deep_learning_course/blob/main/00_pytorch_fundamentals.ipynb\" target=\"_parent\"><img src=\"https://colab.research.google.com/assets/colab-badge.svg\" alt=\"Open In Colab\"/></a>"
      ]
    },
    {
      "cell_type": "code",
      "execution_count": null,
      "metadata": {
        "colab": {
          "base_uri": "https://localhost:8080/"
        },
        "id": "oTdvpD-J3hyw",
        "outputId": "9d8f71f0-2187-4821-d4db-aa0f4d5924ac"
      },
      "outputs": [
        {
          "output_type": "stream",
          "name": "stdout",
          "text": [
            "2.5.1+cu121\n"
          ]
        }
      ],
      "source": [
        "import torch\n",
        "import pandas as pd\n",
        "import numpy as np\n",
        "import matplotlib.pyplot as plt\n",
        "\n",
        "print(torch.__version__)"
      ]
    },
    {
      "cell_type": "markdown",
      "source": [
        "# Introduction to Tensors\n",
        "\n",
        "Creating tensors\n"
      ],
      "metadata": {
        "id": "im-Ej9E86aep"
      }
    },
    {
      "cell_type": "markdown",
      "source": [],
      "metadata": {
        "id": "vlSRFboE6bzX"
      }
    },
    {
      "cell_type": "code",
      "source": [
        "# Scalar\n",
        "\n",
        "scalar = torch.tensor(1)\n",
        "scalar"
      ],
      "metadata": {
        "colab": {
          "base_uri": "https://localhost:8080/"
        },
        "id": "auqTz5IN6jiB",
        "outputId": "5803f9f7-2b0e-439a-e385-cca594fa8772"
      },
      "execution_count": null,
      "outputs": [
        {
          "output_type": "execute_result",
          "data": {
            "text/plain": [
              "tensor(1)"
            ]
          },
          "metadata": {},
          "execution_count": 41
        }
      ]
    },
    {
      "cell_type": "code",
      "source": [
        "vector = torch.tensor([1,3])\n",
        "\n",
        "vector.ndim"
      ],
      "metadata": {
        "colab": {
          "base_uri": "https://localhost:8080/"
        },
        "id": "1Qerkt4H7lpd",
        "outputId": "1b98b3b0-9c01-4e36-cc2a-6af5a93a1b2a"
      },
      "execution_count": null,
      "outputs": [
        {
          "output_type": "execute_result",
          "data": {
            "text/plain": [
              "1"
            ]
          },
          "metadata": {},
          "execution_count": 42
        }
      ]
    },
    {
      "cell_type": "markdown",
      "source": [],
      "metadata": {
        "id": "KZ8YDYV_6io9"
      }
    },
    {
      "cell_type": "code",
      "source": [
        "vector.shape"
      ],
      "metadata": {
        "colab": {
          "base_uri": "https://localhost:8080/"
        },
        "id": "bJe6lIY27wG3",
        "outputId": "40f2bcda-dbf8-446b-dd0e-cf631a96f4f2"
      },
      "execution_count": null,
      "outputs": [
        {
          "output_type": "execute_result",
          "data": {
            "text/plain": [
              "torch.Size([2])"
            ]
          },
          "metadata": {},
          "execution_count": 43
        }
      ]
    },
    {
      "cell_type": "code",
      "source": [
        "scalar.shape"
      ],
      "metadata": {
        "colab": {
          "base_uri": "https://localhost:8080/"
        },
        "id": "096HbmUt7zIh",
        "outputId": "b60ff71b-01ff-48ab-b28f-3bf1857aba8d"
      },
      "execution_count": null,
      "outputs": [
        {
          "output_type": "execute_result",
          "data": {
            "text/plain": [
              "torch.Size([])"
            ]
          },
          "metadata": {},
          "execution_count": 44
        }
      ]
    },
    {
      "cell_type": "code",
      "source": [
        "MATRIX = torch.tensor([\n",
        "    [1, 3, 4],\n",
        "    [1, 3, 5]\n",
        "])\n",
        "\n",
        "MATRIX.ndim"
      ],
      "metadata": {
        "colab": {
          "base_uri": "https://localhost:8080/"
        },
        "id": "P4mjwlkE8HOP",
        "outputId": "b91db540-e174-42b8-c1af-1e442d60e8bf"
      },
      "execution_count": null,
      "outputs": [
        {
          "output_type": "execute_result",
          "data": {
            "text/plain": [
              "2"
            ]
          },
          "metadata": {},
          "execution_count": 45
        }
      ]
    },
    {
      "cell_type": "markdown",
      "source": [
        "A tensor can be of any amount of dimensions"
      ],
      "metadata": {
        "id": "Up5Un2Hz9Otv"
      }
    },
    {
      "cell_type": "markdown",
      "source": [
        "## Random Tensors\n",
        "\n",
        "Why?\n",
        "\n",
        "Random tensors are iportant because the way many neural networks learn if by starting with a random sent of numbers and then adjust those random numbers to better represent the data"
      ],
      "metadata": {
        "id": "1geOCIoW9kXZ"
      }
    },
    {
      "cell_type": "code",
      "source": [
        "# Creating random tensors\n",
        "\n",
        "random = torch.rand(3, 4)\n",
        "random"
      ],
      "metadata": {
        "colab": {
          "base_uri": "https://localhost:8080/"
        },
        "id": "n1CHO0SH9Uas",
        "outputId": "30702b7a-05bb-4789-c36e-fea3d6400280"
      },
      "execution_count": null,
      "outputs": [
        {
          "output_type": "execute_result",
          "data": {
            "text/plain": [
              "tensor([[0.9971, 0.6781, 0.7560, 0.1562],\n",
              "        [0.2003, 0.6951, 0.8270, 0.0395],\n",
              "        [0.6073, 0.1714, 0.1273, 0.2149]])"
            ]
          },
          "metadata": {},
          "execution_count": 46
        }
      ]
    },
    {
      "cell_type": "code",
      "source": [
        "random.ndim"
      ],
      "metadata": {
        "colab": {
          "base_uri": "https://localhost:8080/"
        },
        "id": "_0Jy5wtu9_kq",
        "outputId": "e1358097-d28d-423a-eb6b-03ec74892316"
      },
      "execution_count": null,
      "outputs": [
        {
          "output_type": "execute_result",
          "data": {
            "text/plain": [
              "2"
            ]
          },
          "metadata": {},
          "execution_count": 47
        }
      ]
    },
    {
      "cell_type": "code",
      "source": [
        "random.shape"
      ],
      "metadata": {
        "colab": {
          "base_uri": "https://localhost:8080/"
        },
        "id": "IlEG6aMs-VRs",
        "outputId": "3c1bf973-0213-45e3-b2f8-97ad43a60010"
      },
      "execution_count": null,
      "outputs": [
        {
          "output_type": "execute_result",
          "data": {
            "text/plain": [
              "torch.Size([3, 4])"
            ]
          },
          "metadata": {},
          "execution_count": 48
        }
      ]
    },
    {
      "cell_type": "code",
      "source": [
        "torch.rand(size=(3, 244, 244))"
      ],
      "metadata": {
        "colab": {
          "base_uri": "https://localhost:8080/"
        },
        "id": "9rDq-TPr_Ybn",
        "outputId": "4cf85b73-6170-45db-f5d1-29260bbc416b"
      },
      "execution_count": null,
      "outputs": [
        {
          "output_type": "execute_result",
          "data": {
            "text/plain": [
              "tensor([[[0.6408, 0.5233, 0.1560,  ..., 0.9411, 0.1578, 0.4761],\n",
              "         [0.2064, 0.5259, 0.0474,  ..., 0.9162, 0.0829, 0.8780],\n",
              "         [0.7543, 0.1544, 0.7124,  ..., 0.9408, 0.8316, 0.9679],\n",
              "         ...,\n",
              "         [0.2888, 0.4173, 0.1201,  ..., 0.2869, 0.4492, 0.8506],\n",
              "         [0.1901, 0.7857, 0.2904,  ..., 0.8442, 0.8064, 0.2709],\n",
              "         [0.0957, 0.8995, 0.0847,  ..., 0.2871, 0.2099, 0.8690]],\n",
              "\n",
              "        [[0.9661, 0.1492, 0.9668,  ..., 0.1786, 0.4750, 0.4934],\n",
              "         [0.1852, 0.7642, 0.0632,  ..., 0.9322, 0.2422, 0.5134],\n",
              "         [0.8566, 0.0721, 0.2947,  ..., 0.9661, 0.5123, 0.3222],\n",
              "         ...,\n",
              "         [0.5966, 0.7082, 0.3147,  ..., 0.5736, 0.2417, 0.8337],\n",
              "         [0.8414, 0.9869, 0.2664,  ..., 0.4532, 0.5022, 0.6010],\n",
              "         [0.7702, 0.0542, 0.7998,  ..., 0.9026, 0.7267, 0.5370]],\n",
              "\n",
              "        [[0.4025, 0.4788, 0.4178,  ..., 0.1650, 0.2218, 0.6787],\n",
              "         [0.7026, 0.4575, 0.6637,  ..., 0.8464, 0.9341, 0.1838],\n",
              "         [0.6637, 0.2965, 0.6129,  ..., 0.7533, 0.0348, 0.5580],\n",
              "         ...,\n",
              "         [0.8974, 0.3670, 0.0749,  ..., 0.8862, 0.9257, 0.3663],\n",
              "         [0.6723, 0.5283, 0.3639,  ..., 0.7232, 0.0735, 0.0192],\n",
              "         [0.8551, 0.7062, 0.7463,  ..., 0.4472, 0.4733, 0.6329]]])"
            ]
          },
          "metadata": {},
          "execution_count": 49
        }
      ]
    },
    {
      "cell_type": "markdown",
      "source": [
        "## Zeros and Ones"
      ],
      "metadata": {
        "id": "ijgmS0Ew_jsI"
      }
    },
    {
      "cell_type": "code",
      "source": [
        "zeros = torch.zeros(\n",
        "    3, 4\n",
        ")\n",
        "zeros"
      ],
      "metadata": {
        "colab": {
          "base_uri": "https://localhost:8080/"
        },
        "id": "f7VBwj8R_nYx",
        "outputId": "56603664-776a-4735-9ebe-32fbae14f151"
      },
      "execution_count": null,
      "outputs": [
        {
          "output_type": "execute_result",
          "data": {
            "text/plain": [
              "tensor([[0., 0., 0., 0.],\n",
              "        [0., 0., 0., 0.],\n",
              "        [0., 0., 0., 0.]])"
            ]
          },
          "metadata": {},
          "execution_count": 50
        }
      ]
    },
    {
      "cell_type": "markdown",
      "source": [
        "## Creating a range of tensors and tensors like"
      ],
      "metadata": {
        "id": "B9CrXjeAAOFz"
      }
    },
    {
      "cell_type": "code",
      "source": [
        "torch.arange(0, 5)"
      ],
      "metadata": {
        "colab": {
          "base_uri": "https://localhost:8080/"
        },
        "id": "TNw8URVVAUkX",
        "outputId": "ea0227f2-405f-4fc2-9de6-daff5afaf2db"
      },
      "execution_count": null,
      "outputs": [
        {
          "output_type": "execute_result",
          "data": {
            "text/plain": [
              "tensor([0, 1, 2, 3, 4])"
            ]
          },
          "metadata": {},
          "execution_count": 51
        }
      ]
    },
    {
      "cell_type": "code",
      "source": [
        "# step\n",
        "torch.arange(0, 10, 2)"
      ],
      "metadata": {
        "colab": {
          "base_uri": "https://localhost:8080/"
        },
        "id": "yAXb-UnTAYzH",
        "outputId": "ab81bb32-c396-498a-a3d4-9e5af11f2142"
      },
      "execution_count": null,
      "outputs": [
        {
          "output_type": "execute_result",
          "data": {
            "text/plain": [
              "tensor([0, 2, 4, 6, 8])"
            ]
          },
          "metadata": {},
          "execution_count": 52
        }
      ]
    },
    {
      "cell_type": "code",
      "source": [
        "# Creating tensors like\n",
        "\n",
        "initial = torch.rand(3, 4)\n",
        "\n",
        "zeros_like = torch.zeros_like(initial)\n",
        "zeros_like"
      ],
      "metadata": {
        "colab": {
          "base_uri": "https://localhost:8080/"
        },
        "id": "0FP9AKwSBCGx",
        "outputId": "8f778e19-d77f-4a2e-f758-50231d868e3f"
      },
      "execution_count": null,
      "outputs": [
        {
          "output_type": "execute_result",
          "data": {
            "text/plain": [
              "tensor([[0., 0., 0., 0.],\n",
              "        [0., 0., 0., 0.],\n",
              "        [0., 0., 0., 0.]])"
            ]
          },
          "metadata": {},
          "execution_count": 53
        }
      ]
    },
    {
      "cell_type": "code",
      "source": [
        "zeros_like.shape, zeros_like.ndim, initial.ndim"
      ],
      "metadata": {
        "colab": {
          "base_uri": "https://localhost:8080/"
        },
        "id": "ewJVzAACBa-t",
        "outputId": "a3f195d9-9587-4577-a821-8ad66311a66b"
      },
      "execution_count": null,
      "outputs": [
        {
          "output_type": "execute_result",
          "data": {
            "text/plain": [
              "(torch.Size([3, 4]), 2, 2)"
            ]
          },
          "metadata": {},
          "execution_count": 54
        }
      ]
    },
    {
      "cell_type": "markdown",
      "source": [
        "## Tensor data types\n",
        "\n",
        "why they matter?\n",
        "because with different data types it enables to trade between precession and computational speed.\n",
        "\n",
        "its also important to consider data types because errors usually occur due to\n",
        "- Tensors not right data types\n",
        "- Tensors not right shape\n",
        "- Or tensors are not on the right device\n"
      ],
      "metadata": {
        "id": "kIHquBfwFlUw"
      }
    },
    {
      "cell_type": "code",
      "source": [
        "# Example\n",
        "\n",
        "t = torch.tensor(\n",
        "    [1, 3, 4],\n",
        "    dtype=torch.float32,\n",
        "    device=None, requires_grad=False)"
      ],
      "metadata": {
        "id": "zCCUDLntFkik"
      },
      "execution_count": null,
      "outputs": []
    },
    {
      "cell_type": "code",
      "source": [
        "# changing type\n",
        "t16 = t.type(torch.float16)\n",
        "t16"
      ],
      "metadata": {
        "colab": {
          "base_uri": "https://localhost:8080/"
        },
        "id": "sQ6t5hhVGcda",
        "outputId": "bc21e708-6713-4f98-a47c-884127b2e5d9"
      },
      "execution_count": null,
      "outputs": [
        {
          "output_type": "execute_result",
          "data": {
            "text/plain": [
              "tensor([1., 3., 4.], dtype=torch.float16)"
            ]
          },
          "metadata": {},
          "execution_count": 56
        }
      ]
    },
    {
      "cell_type": "code",
      "source": [
        "t * t16"
      ],
      "metadata": {
        "colab": {
          "base_uri": "https://localhost:8080/"
        },
        "id": "lUVKYJ3iHStE",
        "outputId": "4ffd1ba6-8330-4f5a-a03f-00b40db4f0b3"
      },
      "execution_count": null,
      "outputs": [
        {
          "output_type": "execute_result",
          "data": {
            "text/plain": [
              "tensor([ 1.,  9., 16.])"
            ]
          },
          "metadata": {},
          "execution_count": 57
        }
      ]
    },
    {
      "cell_type": "code",
      "source": [
        "t.dtype"
      ],
      "metadata": {
        "colab": {
          "base_uri": "https://localhost:8080/"
        },
        "id": "luQly1bYHXs1",
        "outputId": "64afb167-5f5f-4e0f-9a3b-753562c665df"
      },
      "execution_count": null,
      "outputs": [
        {
          "output_type": "execute_result",
          "data": {
            "text/plain": [
              "torch.float32"
            ]
          },
          "metadata": {},
          "execution_count": 58
        }
      ]
    },
    {
      "cell_type": "code",
      "source": [
        "t.device"
      ],
      "metadata": {
        "colab": {
          "base_uri": "https://localhost:8080/"
        },
        "id": "lr-1ks7-IT31",
        "outputId": "22494338-51db-4b25-ee27-a3cd4190eb44"
      },
      "execution_count": null,
      "outputs": [
        {
          "output_type": "execute_result",
          "data": {
            "text/plain": [
              "device(type='cpu')"
            ]
          },
          "metadata": {},
          "execution_count": 59
        }
      ]
    },
    {
      "cell_type": "markdown",
      "source": [
        "## Tensor Operations"
      ],
      "metadata": {
        "id": "nG5tCvYKJNnL"
      }
    },
    {
      "cell_type": "code",
      "source": [
        "t * 10"
      ],
      "metadata": {
        "id": "r5pENgWSJQmt",
        "colab": {
          "base_uri": "https://localhost:8080/"
        },
        "outputId": "9573bb6a-4429-45b5-b066-911f703c944f"
      },
      "execution_count": null,
      "outputs": [
        {
          "output_type": "execute_result",
          "data": {
            "text/plain": [
              "tensor([10., 30., 40.])"
            ]
          },
          "metadata": {},
          "execution_count": 60
        }
      ]
    },
    {
      "cell_type": "code",
      "source": [
        "t + 10"
      ],
      "metadata": {
        "colab": {
          "base_uri": "https://localhost:8080/"
        },
        "id": "1el7IqfvEzdf",
        "outputId": "68800ad4-4bd7-4d8e-f228-995fbf3004a3"
      },
      "execution_count": null,
      "outputs": [
        {
          "output_type": "execute_result",
          "data": {
            "text/plain": [
              "tensor([11., 13., 14.])"
            ]
          },
          "metadata": {},
          "execution_count": 61
        }
      ]
    },
    {
      "cell_type": "code",
      "source": [
        "t"
      ],
      "metadata": {
        "colab": {
          "base_uri": "https://localhost:8080/"
        },
        "id": "_LHJevDwE41P",
        "outputId": "de08523d-1913-43cf-d9cc-fe0e37de3e0e"
      },
      "execution_count": null,
      "outputs": [
        {
          "output_type": "execute_result",
          "data": {
            "text/plain": [
              "tensor([1., 3., 4.])"
            ]
          },
          "metadata": {},
          "execution_count": 62
        }
      ]
    },
    {
      "cell_type": "markdown",
      "source": [
        "### Matrix Multiplication"
      ],
      "metadata": {
        "id": "csO5I4VDFRon"
      }
    },
    {
      "cell_type": "code",
      "source": [
        "# Element wise multiplication\n",
        "t * t"
      ],
      "metadata": {
        "colab": {
          "base_uri": "https://localhost:8080/"
        },
        "id": "njrXZBGZFWSl",
        "outputId": "c2b5c40e-db0d-42b0-bddd-c5c604527ae2"
      },
      "execution_count": null,
      "outputs": [
        {
          "output_type": "execute_result",
          "data": {
            "text/plain": [
              "tensor([ 1.,  9., 16.])"
            ]
          },
          "metadata": {},
          "execution_count": 63
        }
      ]
    },
    {
      "cell_type": "code",
      "source": [
        "# Matrix multiplication\n",
        "torch.matmul(t, t)"
      ],
      "metadata": {
        "colab": {
          "base_uri": "https://localhost:8080/"
        },
        "id": "v2cuHtF1Fqms",
        "outputId": "737f184b-d488-4714-d33f-81e4886f549b"
      },
      "execution_count": null,
      "outputs": [
        {
          "output_type": "execute_result",
          "data": {
            "text/plain": [
              "tensor(26.)"
            ]
          },
          "metadata": {},
          "execution_count": 64
        }
      ]
    },
    {
      "cell_type": "code",
      "source": [
        "t1 = torch.rand(2, 3)\n",
        "t2 = torch.rand(3, 2)\n",
        "t1, t2"
      ],
      "metadata": {
        "colab": {
          "base_uri": "https://localhost:8080/"
        },
        "id": "rBUshhhlGYfY",
        "outputId": "f595d066-d2d7-4685-86f9-c5c382b19008"
      },
      "execution_count": null,
      "outputs": [
        {
          "output_type": "execute_result",
          "data": {
            "text/plain": [
              "(tensor([[0.3749, 0.2533, 0.2339],\n",
              "         [0.5770, 0.2408, 0.9564]]),\n",
              " tensor([[0.6486, 0.9384],\n",
              "         [0.9138, 0.8682],\n",
              "         [0.4652, 0.6204]]))"
            ]
          },
          "metadata": {},
          "execution_count": 65
        }
      ]
    },
    {
      "cell_type": "code",
      "source": [
        "torch.matmul(t1, t2)"
      ],
      "metadata": {
        "colab": {
          "base_uri": "https://localhost:8080/"
        },
        "id": "wPOlNnE7Gr6V",
        "outputId": "707d1198-4a84-4533-dbc1-fb6aa42f825c"
      },
      "execution_count": null,
      "outputs": [
        {
          "output_type": "execute_result",
          "data": {
            "text/plain": [
              "tensor([[0.5835, 0.7169],\n",
              "        [1.0392, 1.3439]])"
            ]
          },
          "metadata": {},
          "execution_count": 66
        }
      ]
    },
    {
      "cell_type": "markdown",
      "source": [
        "One of the most common errors in deep learning is shape error\n",
        "\n",
        "There are two main rules when performing matrix multiplication\n",
        "\n",
        "1. The inner dimenssions must match\n",
        "  - `(3, 2) @ (3, 2)` wont work\n",
        "  - `(2, 3) @ (3, 2)` will work\n",
        "  - `(3, 2) @ (2, 3)` will work\n",
        "2. The resulting matrix has the shape of the outer dimensions\n",
        "  - `(2, 3) @ (3, 2)` -> `(2, 2)`\n",
        "\n",
        "To fix out shape issues, we can manipulate on of the tensors using a transpose\n",
        "\n",
        "A transpose switches the axes or dimensions of a given tensor"
      ],
      "metadata": {
        "id": "fcweoEUvHT1A"
      }
    },
    {
      "cell_type": "code",
      "source": [
        "# tensor.T stands for the transpose\n",
        "t1.T, t1"
      ],
      "metadata": {
        "colab": {
          "base_uri": "https://localhost:8080/"
        },
        "id": "rPdA7CcRIaET",
        "outputId": "d778e584-6eb5-4e92-cab9-af4dae22d0b6"
      },
      "execution_count": null,
      "outputs": [
        {
          "output_type": "execute_result",
          "data": {
            "text/plain": [
              "(tensor([[0.3749, 0.5770],\n",
              "         [0.2533, 0.2408],\n",
              "         [0.2339, 0.9564]]),\n",
              " tensor([[0.3749, 0.2533, 0.2339],\n",
              "         [0.5770, 0.2408, 0.9564]]))"
            ]
          },
          "metadata": {},
          "execution_count": 67
        }
      ]
    },
    {
      "cell_type": "code",
      "source": [
        "t1.T.shape, t1.shape"
      ],
      "metadata": {
        "colab": {
          "base_uri": "https://localhost:8080/"
        },
        "id": "nCuSVlR4LiOn",
        "outputId": "f4a6da60-b38f-4caa-f195-44f7c6519fb1"
      },
      "execution_count": null,
      "outputs": [
        {
          "output_type": "execute_result",
          "data": {
            "text/plain": [
              "(torch.Size([3, 2]), torch.Size([2, 3]))"
            ]
          },
          "metadata": {},
          "execution_count": 68
        }
      ]
    },
    {
      "cell_type": "markdown",
      "source": [
        "## Reshaping, stacking, squeezing and unsqueezing tensors\n",
        "\n",
        "- Reshape: reshapes and input tensor to a defined shape\n",
        "- View: Return a view of an input tensor of a certain shape but keep the same memory as the original tensor\n",
        "- Stack: combine tensors on top of each other. Either vertically (vstack) or horizontally (hstack)\n",
        "- Squeeze: remove all `1` dimensions from a tensor\n",
        "- Unsqueeze: add `1` dimensions to a tensor\n",
        "- Permute: Return a view of an imput tensor with dimensions swaped in a certain way"
      ],
      "metadata": {
        "id": "_LxpK4C2PjZG"
      }
    },
    {
      "cell_type": "code",
      "source": [],
      "metadata": {
        "id": "qtmTZyRLRW_U"
      },
      "execution_count": null,
      "outputs": []
    }
  ]
}