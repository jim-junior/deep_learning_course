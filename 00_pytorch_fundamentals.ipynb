{
  "nbformat": 4,
  "nbformat_minor": 0,
  "metadata": {
    "colab": {
      "provenance": [],
      "authorship_tag": "ABX9TyNq6GXoGP+mPPQLmq5HnZXu",
      "include_colab_link": true
    },
    "kernelspec": {
      "name": "python3",
      "display_name": "Python 3"
    },
    "language_info": {
      "name": "python"
    }
  },
  "cells": [
    {
      "cell_type": "markdown",
      "metadata": {
        "id": "view-in-github",
        "colab_type": "text"
      },
      "source": [
        "<a href=\"https://colab.research.google.com/github/jim-junior/deep_learning_course/blob/main/00_pytorch_fundamentals.ipynb\" target=\"_parent\"><img src=\"https://colab.research.google.com/assets/colab-badge.svg\" alt=\"Open In Colab\"/></a>"
      ]
    },
    {
      "cell_type": "code",
      "execution_count": 1,
      "metadata": {
        "colab": {
          "base_uri": "https://localhost:8080/"
        },
        "id": "oTdvpD-J3hyw",
        "outputId": "60b321bf-7030-4252-db75-e56c6e7b99c6"
      },
      "outputs": [
        {
          "output_type": "stream",
          "name": "stdout",
          "text": [
            "2.5.1+cu121\n"
          ]
        }
      ],
      "source": [
        "import torch\n",
        "import pandas as pd\n",
        "import numpy as np\n",
        "import matplotlib.pyplot as plt\n",
        "\n",
        "print(torch.__version__)"
      ]
    },
    {
      "cell_type": "markdown",
      "source": [
        "# Introduction to Tensors\n",
        "\n",
        "Creating tensors\n"
      ],
      "metadata": {
        "id": "im-Ej9E86aep"
      }
    },
    {
      "cell_type": "markdown",
      "source": [],
      "metadata": {
        "id": "vlSRFboE6bzX"
      }
    },
    {
      "cell_type": "code",
      "source": [
        "# Scalar\n",
        "\n",
        "scalar = torch.tensor(1)\n",
        "scalar"
      ],
      "metadata": {
        "colab": {
          "base_uri": "https://localhost:8080/"
        },
        "id": "auqTz5IN6jiB",
        "outputId": "6c8ebad9-030c-4e7f-b176-e0a8e04131b7"
      },
      "execution_count": 4,
      "outputs": [
        {
          "output_type": "execute_result",
          "data": {
            "text/plain": [
              "tensor(1)"
            ]
          },
          "metadata": {},
          "execution_count": 4
        }
      ]
    },
    {
      "cell_type": "code",
      "source": [
        "vector = torch.tensor([1,3])\n",
        "\n",
        "vector.ndim"
      ],
      "metadata": {
        "colab": {
          "base_uri": "https://localhost:8080/"
        },
        "id": "1Qerkt4H7lpd",
        "outputId": "3683ea73-75a9-4fe6-a657-35d502194c67"
      },
      "execution_count": 5,
      "outputs": [
        {
          "output_type": "execute_result",
          "data": {
            "text/plain": [
              "1"
            ]
          },
          "metadata": {},
          "execution_count": 5
        }
      ]
    },
    {
      "cell_type": "markdown",
      "source": [],
      "metadata": {
        "id": "KZ8YDYV_6io9"
      }
    },
    {
      "cell_type": "code",
      "source": [
        "vector.shape"
      ],
      "metadata": {
        "colab": {
          "base_uri": "https://localhost:8080/"
        },
        "id": "bJe6lIY27wG3",
        "outputId": "01abe6c3-ec3b-48d2-b37d-1b637ad729dc"
      },
      "execution_count": 6,
      "outputs": [
        {
          "output_type": "execute_result",
          "data": {
            "text/plain": [
              "torch.Size([2])"
            ]
          },
          "metadata": {},
          "execution_count": 6
        }
      ]
    },
    {
      "cell_type": "code",
      "source": [
        "scalar.shape"
      ],
      "metadata": {
        "colab": {
          "base_uri": "https://localhost:8080/"
        },
        "id": "096HbmUt7zIh",
        "outputId": "5824bca3-20ba-4e0f-a2f9-6cad142c5503"
      },
      "execution_count": 7,
      "outputs": [
        {
          "output_type": "execute_result",
          "data": {
            "text/plain": [
              "torch.Size([])"
            ]
          },
          "metadata": {},
          "execution_count": 7
        }
      ]
    },
    {
      "cell_type": "code",
      "source": [
        "MATRIX = torch.tensor([\n",
        "    [1, 3, 4],\n",
        "    [1, 3, 5]\n",
        "])\n",
        "\n",
        "MATRIX.ndim"
      ],
      "metadata": {
        "colab": {
          "base_uri": "https://localhost:8080/"
        },
        "id": "P4mjwlkE8HOP",
        "outputId": "58fab454-5dc1-4cd0-8a95-d8b02dd57db5"
      },
      "execution_count": 9,
      "outputs": [
        {
          "output_type": "execute_result",
          "data": {
            "text/plain": [
              "2"
            ]
          },
          "metadata": {},
          "execution_count": 9
        }
      ]
    },
    {
      "cell_type": "markdown",
      "source": [
        "A tensor can be of any amount of dimensions"
      ],
      "metadata": {
        "id": "Up5Un2Hz9Otv"
      }
    },
    {
      "cell_type": "markdown",
      "source": [
        "## Random Tensors\n",
        "\n",
        "Why?\n",
        "\n",
        "Random tensors are iportant because the way many neural networks learn if by starting with a random sent of numbers and then adjust those random numbers to better represent the data"
      ],
      "metadata": {
        "id": "1geOCIoW9kXZ"
      }
    },
    {
      "cell_type": "code",
      "source": [
        "# Creating random tensors\n",
        "\n",
        "random = torch.rand(3, 4)\n",
        "random"
      ],
      "metadata": {
        "colab": {
          "base_uri": "https://localhost:8080/"
        },
        "id": "n1CHO0SH9Uas",
        "outputId": "6c027aca-13e0-43e8-c9f4-6786a49f16c9"
      },
      "execution_count": 12,
      "outputs": [
        {
          "output_type": "execute_result",
          "data": {
            "text/plain": [
              "tensor([[0.7385, 0.5521, 0.0998, 0.2345],\n",
              "        [0.9073, 0.8020, 0.2013, 0.5114],\n",
              "        [0.7826, 0.2333, 0.7231, 0.7940]])"
            ]
          },
          "metadata": {},
          "execution_count": 12
        }
      ]
    },
    {
      "cell_type": "code",
      "source": [
        "random.ndim"
      ],
      "metadata": {
        "colab": {
          "base_uri": "https://localhost:8080/"
        },
        "id": "_0Jy5wtu9_kq",
        "outputId": "04d9571c-b215-4b88-e8a5-ef969ccaee92"
      },
      "execution_count": 14,
      "outputs": [
        {
          "output_type": "execute_result",
          "data": {
            "text/plain": [
              "2"
            ]
          },
          "metadata": {},
          "execution_count": 14
        }
      ]
    },
    {
      "cell_type": "code",
      "source": [
        "random.shape"
      ],
      "metadata": {
        "colab": {
          "base_uri": "https://localhost:8080/"
        },
        "id": "IlEG6aMs-VRs",
        "outputId": "327f042e-5e67-4dc2-be4b-cb6a8ba4d41c"
      },
      "execution_count": 15,
      "outputs": [
        {
          "output_type": "execute_result",
          "data": {
            "text/plain": [
              "torch.Size([3, 4])"
            ]
          },
          "metadata": {},
          "execution_count": 15
        }
      ]
    },
    {
      "cell_type": "code",
      "source": [
        "torch.rand(size=(3, 244, 244))"
      ],
      "metadata": {
        "colab": {
          "base_uri": "https://localhost:8080/"
        },
        "id": "9rDq-TPr_Ybn",
        "outputId": "18b9b2d9-ec09-41b3-b7a1-8b5a4ba0538a"
      },
      "execution_count": 16,
      "outputs": [
        {
          "output_type": "execute_result",
          "data": {
            "text/plain": [
              "tensor([[[0.8109, 0.4415, 0.8803,  ..., 0.7929, 0.9166, 0.9012],\n",
              "         [0.6791, 0.4282, 0.9876,  ..., 0.9708, 0.1692, 0.6461],\n",
              "         [0.9613, 0.0112, 0.2653,  ..., 0.6669, 0.9747, 0.0409],\n",
              "         ...,\n",
              "         [0.0833, 0.4085, 0.4357,  ..., 0.3997, 0.2188, 0.5728],\n",
              "         [0.8227, 0.0957, 0.2692,  ..., 0.0308, 0.5433, 0.3964],\n",
              "         [0.6049, 0.4634, 0.6035,  ..., 0.3008, 0.9224, 0.6406]],\n",
              "\n",
              "        [[0.0936, 0.8037, 0.5169,  ..., 0.8828, 0.1849, 0.8865],\n",
              "         [0.5304, 0.2404, 0.5286,  ..., 0.6258, 0.6541, 0.5036],\n",
              "         [0.6636, 0.3519, 0.5761,  ..., 0.4207, 0.6664, 0.6065],\n",
              "         ...,\n",
              "         [0.1968, 0.4821, 0.2087,  ..., 0.9578, 0.7833, 0.5593],\n",
              "         [0.8393, 0.1731, 0.5421,  ..., 0.7652, 0.9046, 0.3881],\n",
              "         [0.5694, 0.1542, 0.9508,  ..., 0.6053, 0.7514, 0.2501]],\n",
              "\n",
              "        [[0.4299, 0.4949, 0.4217,  ..., 0.6020, 0.6260, 0.9557],\n",
              "         [0.1794, 0.3636, 0.1710,  ..., 0.2033, 0.1642, 0.7448],\n",
              "         [0.3853, 0.4339, 0.9230,  ..., 0.3131, 0.0368, 0.5725],\n",
              "         ...,\n",
              "         [0.5379, 0.7291, 0.5716,  ..., 0.9942, 0.6742, 0.0993],\n",
              "         [0.0034, 0.1929, 0.5559,  ..., 0.7795, 0.2509, 0.7001],\n",
              "         [0.0898, 0.6692, 0.9154,  ..., 0.1270, 0.7981, 0.0722]]])"
            ]
          },
          "metadata": {},
          "execution_count": 16
        }
      ]
    },
    {
      "cell_type": "markdown",
      "source": [
        "## Zeros and Ones"
      ],
      "metadata": {
        "id": "ijgmS0Ew_jsI"
      }
    },
    {
      "cell_type": "code",
      "source": [
        "zeros = torch.zeros(\n",
        "    3, 4\n",
        ")\n",
        "zeros"
      ],
      "metadata": {
        "colab": {
          "base_uri": "https://localhost:8080/"
        },
        "id": "f7VBwj8R_nYx",
        "outputId": "a3124521-8310-4a9c-f79f-85ec19fbebb0"
      },
      "execution_count": 18,
      "outputs": [
        {
          "output_type": "execute_result",
          "data": {
            "text/plain": [
              "tensor([[0., 0., 0., 0.],\n",
              "        [0., 0., 0., 0.],\n",
              "        [0., 0., 0., 0.]])"
            ]
          },
          "metadata": {},
          "execution_count": 18
        }
      ]
    },
    {
      "cell_type": "markdown",
      "source": [
        "## Creating a range of tensors and tensors like"
      ],
      "metadata": {
        "id": "B9CrXjeAAOFz"
      }
    },
    {
      "cell_type": "code",
      "source": [
        "torch.arange(0, 5)"
      ],
      "metadata": {
        "colab": {
          "base_uri": "https://localhost:8080/"
        },
        "id": "TNw8URVVAUkX",
        "outputId": "63004c27-6788-4fae-ff3f-32c6cd816751"
      },
      "execution_count": 19,
      "outputs": [
        {
          "output_type": "execute_result",
          "data": {
            "text/plain": [
              "tensor([0, 1, 2, 3, 4])"
            ]
          },
          "metadata": {},
          "execution_count": 19
        }
      ]
    },
    {
      "cell_type": "code",
      "source": [
        "# step\n",
        "torch.arange(0, 10, 2)"
      ],
      "metadata": {
        "colab": {
          "base_uri": "https://localhost:8080/"
        },
        "id": "yAXb-UnTAYzH",
        "outputId": "26eb3efa-23a2-456f-ff3a-0dda39a9af1b"
      },
      "execution_count": 20,
      "outputs": [
        {
          "output_type": "execute_result",
          "data": {
            "text/plain": [
              "tensor([0, 2, 4, 6, 8])"
            ]
          },
          "metadata": {},
          "execution_count": 20
        }
      ]
    },
    {
      "cell_type": "code",
      "source": [
        "# Creating tensors like\n",
        "\n",
        "initial = torch.rand(3, 4)\n",
        "\n",
        "zeros_like = torch.zeros_like(initial)\n",
        "zeros_like"
      ],
      "metadata": {
        "colab": {
          "base_uri": "https://localhost:8080/"
        },
        "id": "0FP9AKwSBCGx",
        "outputId": "8301d7de-6343-41af-b91d-977b6c77a48d"
      },
      "execution_count": 21,
      "outputs": [
        {
          "output_type": "execute_result",
          "data": {
            "text/plain": [
              "tensor([[0., 0., 0., 0.],\n",
              "        [0., 0., 0., 0.],\n",
              "        [0., 0., 0., 0.]])"
            ]
          },
          "metadata": {},
          "execution_count": 21
        }
      ]
    },
    {
      "cell_type": "code",
      "source": [
        "zeros_like.shape, zeros_like.ndim, initial.ndim"
      ],
      "metadata": {
        "colab": {
          "base_uri": "https://localhost:8080/"
        },
        "id": "ewJVzAACBa-t",
        "outputId": "8061c863-d601-43e0-95e7-5bc6a6e78231"
      },
      "execution_count": 22,
      "outputs": [
        {
          "output_type": "execute_result",
          "data": {
            "text/plain": [
              "(torch.Size([3, 4]), 2, 2)"
            ]
          },
          "metadata": {},
          "execution_count": 22
        }
      ]
    },
    {
      "cell_type": "markdown",
      "source": [
        "## Tensor data types\n",
        "\n",
        "why they matter?\n",
        "because with different data types it enables to trade between precession and computational speed.\n",
        "\n",
        "its also important to consider data types because errors usually occur due to\n",
        "- Tensors not right data types\n",
        "- Tensors not right shape\n",
        "- Or tensors are not on the right device\n"
      ],
      "metadata": {
        "id": "kIHquBfwFlUw"
      }
    },
    {
      "cell_type": "code",
      "source": [
        "# Example\n",
        "\n",
        "t = torch.tensor(\n",
        "    [1, 3, 4],\n",
        "    dtype=torch.float32,\n",
        "    device=None, requires_grad=False)"
      ],
      "metadata": {
        "id": "zCCUDLntFkik"
      },
      "execution_count": 24,
      "outputs": []
    },
    {
      "cell_type": "code",
      "source": [
        "# changing type\n",
        "t16 = t.type(torch.float16)\n",
        "t16"
      ],
      "metadata": {
        "colab": {
          "base_uri": "https://localhost:8080/"
        },
        "id": "sQ6t5hhVGcda",
        "outputId": "3ffa60e6-f864-4824-94e0-cb18ebaf29f8"
      },
      "execution_count": 25,
      "outputs": [
        {
          "output_type": "execute_result",
          "data": {
            "text/plain": [
              "tensor([1., 3., 4.], dtype=torch.float16)"
            ]
          },
          "metadata": {},
          "execution_count": 25
        }
      ]
    },
    {
      "cell_type": "code",
      "source": [
        "t * t16"
      ],
      "metadata": {
        "colab": {
          "base_uri": "https://localhost:8080/"
        },
        "id": "lUVKYJ3iHStE",
        "outputId": "aa9db388-119e-4431-dbb5-4193f23e0519"
      },
      "execution_count": 26,
      "outputs": [
        {
          "output_type": "execute_result",
          "data": {
            "text/plain": [
              "tensor([ 1.,  9., 16.])"
            ]
          },
          "metadata": {},
          "execution_count": 26
        }
      ]
    },
    {
      "cell_type": "code",
      "source": [
        "t.dtype"
      ],
      "metadata": {
        "colab": {
          "base_uri": "https://localhost:8080/"
        },
        "id": "luQly1bYHXs1",
        "outputId": "0d1c2daa-3675-44af-ea12-b7069b18da00"
      },
      "execution_count": 27,
      "outputs": [
        {
          "output_type": "execute_result",
          "data": {
            "text/plain": [
              "torch.float32"
            ]
          },
          "metadata": {},
          "execution_count": 27
        }
      ]
    },
    {
      "cell_type": "code",
      "source": [
        "t.device"
      ],
      "metadata": {
        "colab": {
          "base_uri": "https://localhost:8080/"
        },
        "id": "lr-1ks7-IT31",
        "outputId": "841cc863-9226-4125-8869-6f2942412ce2"
      },
      "execution_count": 28,
      "outputs": [
        {
          "output_type": "execute_result",
          "data": {
            "text/plain": [
              "device(type='cpu')"
            ]
          },
          "metadata": {},
          "execution_count": 28
        }
      ]
    },
    {
      "cell_type": "markdown",
      "source": [
        "## Tensor Operations"
      ],
      "metadata": {
        "id": "nG5tCvYKJNnL"
      }
    },
    {
      "cell_type": "code",
      "source": [],
      "metadata": {
        "id": "r5pENgWSJQmt"
      },
      "execution_count": null,
      "outputs": []
    }
  ]
}