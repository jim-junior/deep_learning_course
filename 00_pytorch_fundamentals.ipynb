{
  "cells": [
    {
      "cell_type": "markdown",
      "metadata": {
        "colab_type": "text",
        "id": "view-in-github"
      },
      "source": [
        "<a href=\"https://colab.research.google.com/github/jim-junior/deep_learning_course/blob/main/00_pytorch_fundamentals.ipynb\" target=\"_parent\"><img src=\"https://colab.research.google.com/assets/colab-badge.svg\" alt=\"Open In Colab\"/></a>"
      ]
    },
    {
      "cell_type": "code",
      "execution_count": 1,
      "metadata": {
        "colab": {
          "base_uri": "https://localhost:8080/"
        },
        "id": "oTdvpD-J3hyw",
        "outputId": "9d8f71f0-2187-4821-d4db-aa0f4d5924ac"
      },
      "outputs": [
        {
          "name": "stdout",
          "output_type": "stream",
          "text": [
            "2.6.0+cpu\n"
          ]
        }
      ],
      "source": [
        "import torch\n",
        "import pandas as pd\n",
        "import numpy as np\n",
        "import matplotlib.pyplot as plt\n",
        "\n",
        "print(torch.__version__)"
      ]
    },
    {
      "cell_type": "code",
      "execution_count": null,
      "metadata": {},
      "outputs": [],
      "source": []
    },
    {
      "cell_type": "markdown",
      "metadata": {
        "id": "im-Ej9E86aep"
      },
      "source": [
        "# Introduction to Tensors\n",
        "\n",
        "Creating tensors\n"
      ]
    },
    {
      "cell_type": "markdown",
      "metadata": {
        "id": "vlSRFboE6bzX"
      },
      "source": []
    },
    {
      "cell_type": "code",
      "execution_count": 2,
      "metadata": {
        "colab": {
          "base_uri": "https://localhost:8080/"
        },
        "id": "auqTz5IN6jiB",
        "outputId": "5803f9f7-2b0e-439a-e385-cca594fa8772"
      },
      "outputs": [
        {
          "data": {
            "text/plain": [
              "tensor(1)"
            ]
          },
          "execution_count": 2,
          "metadata": {},
          "output_type": "execute_result"
        }
      ],
      "source": [
        "# Scalar\n",
        "\n",
        "scalar = torch.tensor(1)\n",
        "scalar"
      ]
    },
    {
      "cell_type": "code",
      "execution_count": 3,
      "metadata": {
        "colab": {
          "base_uri": "https://localhost:8080/"
        },
        "id": "1Qerkt4H7lpd",
        "outputId": "1b98b3b0-9c01-4e36-cc2a-6af5a93a1b2a"
      },
      "outputs": [
        {
          "data": {
            "text/plain": [
              "1"
            ]
          },
          "execution_count": 3,
          "metadata": {},
          "output_type": "execute_result"
        }
      ],
      "source": [
        "vector = torch.tensor([1,3])\n",
        "\n",
        "vector.ndim"
      ]
    },
    {
      "cell_type": "markdown",
      "metadata": {
        "id": "KZ8YDYV_6io9"
      },
      "source": []
    },
    {
      "cell_type": "code",
      "execution_count": 4,
      "metadata": {
        "colab": {
          "base_uri": "https://localhost:8080/"
        },
        "id": "bJe6lIY27wG3",
        "outputId": "40f2bcda-dbf8-446b-dd0e-cf631a96f4f2"
      },
      "outputs": [
        {
          "data": {
            "text/plain": [
              "torch.Size([2])"
            ]
          },
          "execution_count": 4,
          "metadata": {},
          "output_type": "execute_result"
        }
      ],
      "source": [
        "vector.shape"
      ]
    },
    {
      "cell_type": "code",
      "execution_count": 5,
      "metadata": {
        "colab": {
          "base_uri": "https://localhost:8080/"
        },
        "id": "096HbmUt7zIh",
        "outputId": "b60ff71b-01ff-48ab-b28f-3bf1857aba8d"
      },
      "outputs": [
        {
          "data": {
            "text/plain": [
              "torch.Size([])"
            ]
          },
          "execution_count": 5,
          "metadata": {},
          "output_type": "execute_result"
        }
      ],
      "source": [
        "scalar.shape"
      ]
    },
    {
      "cell_type": "code",
      "execution_count": 6,
      "metadata": {
        "colab": {
          "base_uri": "https://localhost:8080/"
        },
        "id": "P4mjwlkE8HOP",
        "outputId": "b91db540-e174-42b8-c1af-1e442d60e8bf"
      },
      "outputs": [
        {
          "data": {
            "text/plain": [
              "2"
            ]
          },
          "execution_count": 6,
          "metadata": {},
          "output_type": "execute_result"
        }
      ],
      "source": [
        "MATRIX = torch.tensor([\n",
        "    [1, 3, 4],\n",
        "    [1, 3, 5]\n",
        "])\n",
        "\n",
        "MATRIX.ndim"
      ]
    },
    {
      "cell_type": "markdown",
      "metadata": {
        "id": "Up5Un2Hz9Otv"
      },
      "source": [
        "A tensor can be of any amount of dimensions"
      ]
    },
    {
      "cell_type": "markdown",
      "metadata": {
        "id": "1geOCIoW9kXZ"
      },
      "source": [
        "## Random Tensors\n",
        "\n",
        "Why?\n",
        "\n",
        "Random tensors are iportant because the way many neural networks learn if by starting with a random sent of numbers and then adjust those random numbers to better represent the data"
      ]
    },
    {
      "cell_type": "code",
      "execution_count": 7,
      "metadata": {
        "colab": {
          "base_uri": "https://localhost:8080/"
        },
        "id": "n1CHO0SH9Uas",
        "outputId": "30702b7a-05bb-4789-c36e-fea3d6400280"
      },
      "outputs": [
        {
          "data": {
            "text/plain": [
              "tensor([[0.7591, 0.9803, 0.3052, 0.6015],\n",
              "        [0.5246, 0.9914, 0.0781, 0.8393],\n",
              "        [0.4153, 0.4525, 0.5472, 0.0580]])"
            ]
          },
          "execution_count": 7,
          "metadata": {},
          "output_type": "execute_result"
        }
      ],
      "source": [
        "# Creating random tensors\n",
        "\n",
        "random = torch.rand(3, 4)\n",
        "random"
      ]
    },
    {
      "cell_type": "code",
      "execution_count": 8,
      "metadata": {
        "colab": {
          "base_uri": "https://localhost:8080/"
        },
        "id": "_0Jy5wtu9_kq",
        "outputId": "e1358097-d28d-423a-eb6b-03ec74892316"
      },
      "outputs": [
        {
          "data": {
            "text/plain": [
              "2"
            ]
          },
          "execution_count": 8,
          "metadata": {},
          "output_type": "execute_result"
        }
      ],
      "source": [
        "random.ndim"
      ]
    },
    {
      "cell_type": "code",
      "execution_count": 9,
      "metadata": {
        "colab": {
          "base_uri": "https://localhost:8080/"
        },
        "id": "IlEG6aMs-VRs",
        "outputId": "3c1bf973-0213-45e3-b2f8-97ad43a60010"
      },
      "outputs": [
        {
          "data": {
            "text/plain": [
              "torch.Size([3, 4])"
            ]
          },
          "execution_count": 9,
          "metadata": {},
          "output_type": "execute_result"
        }
      ],
      "source": [
        "random.shape"
      ]
    },
    {
      "cell_type": "code",
      "execution_count": 10,
      "metadata": {
        "colab": {
          "base_uri": "https://localhost:8080/"
        },
        "id": "9rDq-TPr_Ybn",
        "outputId": "4cf85b73-6170-45db-f5d1-29260bbc416b"
      },
      "outputs": [
        {
          "data": {
            "text/plain": [
              "tensor([[[0.3027, 0.0819, 0.9705,  ..., 0.4294, 0.3502, 0.3159],\n",
              "         [0.6867, 0.7458, 0.6613,  ..., 0.5105, 0.1391, 0.5770],\n",
              "         [0.0918, 0.9923, 0.4102,  ..., 0.9352, 0.3466, 0.4984],\n",
              "         ...,\n",
              "         [0.8461, 0.4224, 0.8288,  ..., 0.4086, 0.0593, 0.1188],\n",
              "         [0.4768, 0.7061, 0.5130,  ..., 0.4508, 0.0788, 0.3349],\n",
              "         [0.1063, 0.2790, 0.4052,  ..., 0.3249, 0.1625, 0.2504]],\n",
              "\n",
              "        [[0.7244, 0.3892, 0.4363,  ..., 0.2011, 0.9375, 0.3981],\n",
              "         [0.3168, 0.9607, 0.6303,  ..., 0.5853, 0.1218, 0.1070],\n",
              "         [0.4697, 0.4148, 0.5525,  ..., 0.8373, 0.7475, 0.2872],\n",
              "         ...,\n",
              "         [0.6303, 0.8860, 0.3727,  ..., 0.3209, 0.9967, 0.5475],\n",
              "         [0.4441, 0.3772, 0.0935,  ..., 0.6457, 0.3473, 0.3434],\n",
              "         [0.3360, 0.6521, 0.7111,  ..., 0.4725, 0.1671, 0.3351]],\n",
              "\n",
              "        [[0.9170, 0.8714, 0.8587,  ..., 0.7001, 0.0597, 0.5534],\n",
              "         [0.1987, 0.8159, 0.9109,  ..., 0.0728, 0.4701, 0.5743],\n",
              "         [0.9798, 0.2544, 0.7639,  ..., 0.4869, 0.3031, 0.3755],\n",
              "         ...,\n",
              "         [0.8762, 0.7665, 0.0252,  ..., 0.2732, 0.7662, 0.2919],\n",
              "         [0.7847, 0.2420, 0.3192,  ..., 0.0883, 0.5410, 0.4563],\n",
              "         [0.6783, 0.1173, 0.7678,  ..., 0.8835, 0.6082, 0.1174]]])"
            ]
          },
          "execution_count": 10,
          "metadata": {},
          "output_type": "execute_result"
        }
      ],
      "source": [
        "torch.rand(size=(3, 244, 244))"
      ]
    },
    {
      "cell_type": "markdown",
      "metadata": {
        "id": "ijgmS0Ew_jsI"
      },
      "source": [
        "## Zeros and Ones"
      ]
    },
    {
      "cell_type": "code",
      "execution_count": 11,
      "metadata": {
        "colab": {
          "base_uri": "https://localhost:8080/"
        },
        "id": "f7VBwj8R_nYx",
        "outputId": "56603664-776a-4735-9ebe-32fbae14f151"
      },
      "outputs": [
        {
          "data": {
            "text/plain": [
              "tensor([[0., 0., 0., 0.],\n",
              "        [0., 0., 0., 0.],\n",
              "        [0., 0., 0., 0.]])"
            ]
          },
          "execution_count": 11,
          "metadata": {},
          "output_type": "execute_result"
        }
      ],
      "source": [
        "zeros = torch.zeros(\n",
        "    3, 4\n",
        ")\n",
        "zeros"
      ]
    },
    {
      "cell_type": "markdown",
      "metadata": {
        "id": "B9CrXjeAAOFz"
      },
      "source": [
        "## Creating a range of tensors and tensors like"
      ]
    },
    {
      "cell_type": "code",
      "execution_count": 12,
      "metadata": {
        "colab": {
          "base_uri": "https://localhost:8080/"
        },
        "id": "TNw8URVVAUkX",
        "outputId": "ea0227f2-405f-4fc2-9de6-daff5afaf2db"
      },
      "outputs": [
        {
          "data": {
            "text/plain": [
              "tensor([0, 1, 2, 3, 4])"
            ]
          },
          "execution_count": 12,
          "metadata": {},
          "output_type": "execute_result"
        }
      ],
      "source": [
        "torch.arange(0, 5)"
      ]
    },
    {
      "cell_type": "code",
      "execution_count": 13,
      "metadata": {
        "colab": {
          "base_uri": "https://localhost:8080/"
        },
        "id": "yAXb-UnTAYzH",
        "outputId": "ab81bb32-c396-498a-a3d4-9e5af11f2142"
      },
      "outputs": [
        {
          "data": {
            "text/plain": [
              "tensor([0, 2, 4, 6, 8])"
            ]
          },
          "execution_count": 13,
          "metadata": {},
          "output_type": "execute_result"
        }
      ],
      "source": [
        "# step\n",
        "torch.arange(0, 10, 2)"
      ]
    },
    {
      "cell_type": "code",
      "execution_count": 14,
      "metadata": {
        "colab": {
          "base_uri": "https://localhost:8080/"
        },
        "id": "0FP9AKwSBCGx",
        "outputId": "8f778e19-d77f-4a2e-f758-50231d868e3f"
      },
      "outputs": [
        {
          "data": {
            "text/plain": [
              "tensor([[0., 0., 0., 0.],\n",
              "        [0., 0., 0., 0.],\n",
              "        [0., 0., 0., 0.]])"
            ]
          },
          "execution_count": 14,
          "metadata": {},
          "output_type": "execute_result"
        }
      ],
      "source": [
        "# Creating tensors like\n",
        "\n",
        "initial = torch.rand(3, 4)\n",
        "\n",
        "zeros_like = torch.zeros_like(initial)\n",
        "zeros_like"
      ]
    },
    {
      "cell_type": "code",
      "execution_count": 15,
      "metadata": {
        "colab": {
          "base_uri": "https://localhost:8080/"
        },
        "id": "ewJVzAACBa-t",
        "outputId": "a3f195d9-9587-4577-a821-8ad66311a66b"
      },
      "outputs": [
        {
          "data": {
            "text/plain": [
              "(torch.Size([3, 4]), 2, 2)"
            ]
          },
          "execution_count": 15,
          "metadata": {},
          "output_type": "execute_result"
        }
      ],
      "source": [
        "zeros_like.shape, zeros_like.ndim, initial.ndim"
      ]
    },
    {
      "cell_type": "markdown",
      "metadata": {
        "id": "kIHquBfwFlUw"
      },
      "source": [
        "## Tensor data types\n",
        "\n",
        "why they matter?\n",
        "because with different data types it enables to trade between precession and computational speed.\n",
        "\n",
        "its also important to consider data types because errors usually occur due to\n",
        "- Tensors not right data types\n",
        "- Tensors not right shape\n",
        "- Or tensors are not on the right device\n"
      ]
    },
    {
      "cell_type": "code",
      "execution_count": 16,
      "metadata": {
        "id": "zCCUDLntFkik"
      },
      "outputs": [],
      "source": [
        "# Example\n",
        "\n",
        "t = torch.tensor(\n",
        "    [1, 3, 4],\n",
        "    dtype=torch.float32,\n",
        "    device=None, requires_grad=False)"
      ]
    },
    {
      "cell_type": "code",
      "execution_count": 17,
      "metadata": {
        "colab": {
          "base_uri": "https://localhost:8080/"
        },
        "id": "sQ6t5hhVGcda",
        "outputId": "bc21e708-6713-4f98-a47c-884127b2e5d9"
      },
      "outputs": [
        {
          "data": {
            "text/plain": [
              "tensor([1., 3., 4.], dtype=torch.float16)"
            ]
          },
          "execution_count": 17,
          "metadata": {},
          "output_type": "execute_result"
        }
      ],
      "source": [
        "# changing type\n",
        "t16 = t.type(torch.float16)\n",
        "t16"
      ]
    },
    {
      "cell_type": "code",
      "execution_count": 18,
      "metadata": {
        "colab": {
          "base_uri": "https://localhost:8080/"
        },
        "id": "lUVKYJ3iHStE",
        "outputId": "4ffd1ba6-8330-4f5a-a03f-00b40db4f0b3"
      },
      "outputs": [
        {
          "data": {
            "text/plain": [
              "tensor([ 1.,  9., 16.])"
            ]
          },
          "execution_count": 18,
          "metadata": {},
          "output_type": "execute_result"
        }
      ],
      "source": [
        "t * t16"
      ]
    },
    {
      "cell_type": "code",
      "execution_count": 19,
      "metadata": {
        "colab": {
          "base_uri": "https://localhost:8080/"
        },
        "id": "luQly1bYHXs1",
        "outputId": "64afb167-5f5f-4e0f-9a3b-753562c665df"
      },
      "outputs": [
        {
          "data": {
            "text/plain": [
              "torch.float32"
            ]
          },
          "execution_count": 19,
          "metadata": {},
          "output_type": "execute_result"
        }
      ],
      "source": [
        "t.dtype"
      ]
    },
    {
      "cell_type": "code",
      "execution_count": 20,
      "metadata": {
        "colab": {
          "base_uri": "https://localhost:8080/"
        },
        "id": "lr-1ks7-IT31",
        "outputId": "22494338-51db-4b25-ee27-a3cd4190eb44"
      },
      "outputs": [
        {
          "data": {
            "text/plain": [
              "device(type='cpu')"
            ]
          },
          "execution_count": 20,
          "metadata": {},
          "output_type": "execute_result"
        }
      ],
      "source": [
        "t.device"
      ]
    },
    {
      "cell_type": "markdown",
      "metadata": {
        "id": "nG5tCvYKJNnL"
      },
      "source": [
        "## Tensor Operations"
      ]
    },
    {
      "cell_type": "code",
      "execution_count": 21,
      "metadata": {
        "colab": {
          "base_uri": "https://localhost:8080/"
        },
        "id": "r5pENgWSJQmt",
        "outputId": "9573bb6a-4429-45b5-b066-911f703c944f"
      },
      "outputs": [
        {
          "data": {
            "text/plain": [
              "tensor([10., 30., 40.])"
            ]
          },
          "execution_count": 21,
          "metadata": {},
          "output_type": "execute_result"
        }
      ],
      "source": [
        "t * 10"
      ]
    },
    {
      "cell_type": "code",
      "execution_count": 22,
      "metadata": {
        "colab": {
          "base_uri": "https://localhost:8080/"
        },
        "id": "1el7IqfvEzdf",
        "outputId": "68800ad4-4bd7-4d8e-f228-995fbf3004a3"
      },
      "outputs": [
        {
          "data": {
            "text/plain": [
              "tensor([11., 13., 14.])"
            ]
          },
          "execution_count": 22,
          "metadata": {},
          "output_type": "execute_result"
        }
      ],
      "source": [
        "t + 10"
      ]
    },
    {
      "cell_type": "code",
      "execution_count": 23,
      "metadata": {
        "colab": {
          "base_uri": "https://localhost:8080/"
        },
        "id": "_LHJevDwE41P",
        "outputId": "de08523d-1913-43cf-d9cc-fe0e37de3e0e"
      },
      "outputs": [
        {
          "data": {
            "text/plain": [
              "tensor([1., 3., 4.])"
            ]
          },
          "execution_count": 23,
          "metadata": {},
          "output_type": "execute_result"
        }
      ],
      "source": [
        "t"
      ]
    },
    {
      "cell_type": "markdown",
      "metadata": {
        "id": "csO5I4VDFRon"
      },
      "source": [
        "### Matrix Multiplication"
      ]
    },
    {
      "cell_type": "code",
      "execution_count": 24,
      "metadata": {
        "colab": {
          "base_uri": "https://localhost:8080/"
        },
        "id": "njrXZBGZFWSl",
        "outputId": "c2b5c40e-db0d-42b0-bddd-c5c604527ae2"
      },
      "outputs": [
        {
          "data": {
            "text/plain": [
              "tensor([ 1.,  9., 16.])"
            ]
          },
          "execution_count": 24,
          "metadata": {},
          "output_type": "execute_result"
        }
      ],
      "source": [
        "# Element wise multiplication\n",
        "t * t"
      ]
    },
    {
      "cell_type": "code",
      "execution_count": 25,
      "metadata": {
        "colab": {
          "base_uri": "https://localhost:8080/"
        },
        "id": "v2cuHtF1Fqms",
        "outputId": "737f184b-d488-4714-d33f-81e4886f549b"
      },
      "outputs": [
        {
          "data": {
            "text/plain": [
              "tensor(26.)"
            ]
          },
          "execution_count": 25,
          "metadata": {},
          "output_type": "execute_result"
        }
      ],
      "source": [
        "# Matrix multiplication\n",
        "torch.matmul(t, t)"
      ]
    },
    {
      "cell_type": "code",
      "execution_count": 26,
      "metadata": {
        "colab": {
          "base_uri": "https://localhost:8080/"
        },
        "id": "rBUshhhlGYfY",
        "outputId": "f595d066-d2d7-4685-86f9-c5c382b19008"
      },
      "outputs": [
        {
          "data": {
            "text/plain": [
              "(tensor([[0.8705, 0.2082, 0.8594],\n",
              "         [0.1203, 0.9124, 0.9031]]),\n",
              " tensor([[0.4514, 0.0701],\n",
              "         [0.3464, 0.3856],\n",
              "         [0.1885, 0.5002]]))"
            ]
          },
          "execution_count": 26,
          "metadata": {},
          "output_type": "execute_result"
        }
      ],
      "source": [
        "t1 = torch.rand(2, 3)\n",
        "t2 = torch.rand(3, 2)\n",
        "t1, t2"
      ]
    },
    {
      "cell_type": "code",
      "execution_count": 27,
      "metadata": {
        "colab": {
          "base_uri": "https://localhost:8080/"
        },
        "id": "wPOlNnE7Gr6V",
        "outputId": "707d1198-4a84-4533-dbc1-fb6aa42f825c"
      },
      "outputs": [
        {
          "data": {
            "text/plain": [
              "tensor([[0.6270, 0.5712],\n",
              "        [0.5406, 0.8120]])"
            ]
          },
          "execution_count": 27,
          "metadata": {},
          "output_type": "execute_result"
        }
      ],
      "source": [
        "torch.matmul(t1, t2)"
      ]
    },
    {
      "cell_type": "markdown",
      "metadata": {
        "id": "fcweoEUvHT1A"
      },
      "source": [
        "One of the most common errors in deep learning is shape error\n",
        "\n",
        "There are two main rules when performing matrix multiplication\n",
        "\n",
        "1. The inner dimenssions must match\n",
        "  - `(3, 2) @ (3, 2)` wont work\n",
        "  - `(2, 3) @ (3, 2)` will work\n",
        "  - `(3, 2) @ (2, 3)` will work\n",
        "2. The resulting matrix has the shape of the outer dimensions\n",
        "  - `(2, 3) @ (3, 2)` -> `(2, 2)`\n",
        "\n",
        "To fix out shape issues, we can manipulate on of the tensors using a transpose\n",
        "\n",
        "A transpose switches the axes or dimensions of a given tensor"
      ]
    },
    {
      "cell_type": "code",
      "execution_count": 28,
      "metadata": {
        "colab": {
          "base_uri": "https://localhost:8080/"
        },
        "id": "rPdA7CcRIaET",
        "outputId": "d778e584-6eb5-4e92-cab9-af4dae22d0b6"
      },
      "outputs": [
        {
          "data": {
            "text/plain": [
              "(tensor([[0.8705, 0.1203],\n",
              "         [0.2082, 0.9124],\n",
              "         [0.8594, 0.9031]]),\n",
              " tensor([[0.8705, 0.2082, 0.8594],\n",
              "         [0.1203, 0.9124, 0.9031]]))"
            ]
          },
          "execution_count": 28,
          "metadata": {},
          "output_type": "execute_result"
        }
      ],
      "source": [
        "# tensor.T stands for the transpose\n",
        "t1.T, t1"
      ]
    },
    {
      "cell_type": "code",
      "execution_count": 29,
      "metadata": {
        "colab": {
          "base_uri": "https://localhost:8080/"
        },
        "id": "nCuSVlR4LiOn",
        "outputId": "f4a6da60-b38f-4caa-f195-44f7c6519fb1"
      },
      "outputs": [
        {
          "data": {
            "text/plain": [
              "(torch.Size([3, 2]), torch.Size([2, 3]))"
            ]
          },
          "execution_count": 29,
          "metadata": {},
          "output_type": "execute_result"
        }
      ],
      "source": [
        "t1.T.shape, t1.shape"
      ]
    },
    {
      "cell_type": "markdown",
      "metadata": {
        "id": "_LxpK4C2PjZG"
      },
      "source": [
        "## Reshaping, stacking, squeezing and unsqueezing tensors\n",
        "\n",
        "- Reshape: reshapes and input tensor to a defined shape\n",
        "- View: Return a view of an input tensor of a certain shape but keep the same memory as the original tensor\n",
        "- Stack: combine tensors on top of each other. Either vertically (vstack) or horizontally (hstack)\n",
        "- Squeeze: remove all `1` dimensions from a tensor\n",
        "- Unsqueeze: add `1` dimensions to a tensor\n",
        "- Permute: Return a view of an imput tensor with dimensions swaped in a certain way"
      ]
    },
    {
      "cell_type": "code",
      "execution_count": null,
      "metadata": {
        "id": "qtmTZyRLRW_U"
      },
      "outputs": [],
      "source": []
    }
  ],
  "metadata": {
    "colab": {
      "authorship_tag": "ABX9TyMHd4cC5bhGpY+8DVafR9rb",
      "include_colab_link": true,
      "provenance": []
    },
    "kernelspec": {
      "display_name": "Python 3",
      "name": "python3"
    },
    "language_info": {
      "codemirror_mode": {
        "name": "ipython",
        "version": 3
      },
      "file_extension": ".py",
      "mimetype": "text/x-python",
      "name": "python",
      "nbconvert_exporter": "python",
      "pygments_lexer": "ipython3",
      "version": "3.12.3"
    }
  },
  "nbformat": 4,
  "nbformat_minor": 0
}
